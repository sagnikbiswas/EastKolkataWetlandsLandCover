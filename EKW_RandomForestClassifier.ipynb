{
  "nbformat": 4,
  "nbformat_minor": 0,
  "metadata": {
    "colab": {
      "name": "EKW_RandomForestClassifier.ipynb",
      "provenance": [],
      "collapsed_sections": [],
      "authorship_tag": "ABX9TyMFbnuMiSyTo0NqOOQ+nkoT",
      "include_colab_link": true
    },
    "kernelspec": {
      "name": "python3",
      "display_name": "Python 3"
    },
    "language_info": {
      "name": "python"
    }
  },
  "cells": [
    {
      "cell_type": "markdown",
      "metadata": {
        "id": "view-in-github",
        "colab_type": "text"
      },
      "source": [
        "<a href=\"https://colab.research.google.com/github/sagnikbiswas/EastKolkataWetlandsLandCover/blob/main/EKW_RandomForestClassifier.ipynb\" target=\"_parent\"><img src=\"https://colab.research.google.com/assets/colab-badge.svg\" alt=\"Open In Colab\"/></a>"
      ]
    },
    {
      "cell_type": "markdown",
      "source": [
        "#Imports"
      ],
      "metadata": {
        "id": "suvmFaJvrn9e"
      }
    },
    {
      "cell_type": "markdown",
      "source": [
        "Installation"
      ],
      "metadata": {
        "id": "x-cjTyLArqpo"
      }
    },
    {
      "cell_type": "code",
      "execution_count": null,
      "metadata": {
        "id": "j9jJKIjTrVPZ"
      },
      "outputs": [],
      "source": [
        "%%capture\n",
        "!pip install rasterio\n",
        "!pip install geopandas\n",
        "!pip install earthpy"
      ]
    },
    {
      "cell_type": "markdown",
      "source": [
        "Imports"
      ],
      "metadata": {
        "id": "LVg1an5yr8qL"
      }
    },
    {
      "cell_type": "code",
      "source": [
        "# For satellite image processing\n",
        "import rasterio as rio\n",
        "from rasterio.plot import show\n",
        "from rasterio.enums import Resampling\n",
        "\n",
        "import earthpy as et\n",
        "import earthpy.spatial as es\n",
        "import earthpy.plot as ep\n",
        "\n",
        "import geopandas as gpd\n",
        "\n",
        "#For machine learning\n",
        "from sklearn.ensemble import RandomForestClassifier\n",
        "from xgboost import XGBClassifier\n",
        "from sklearn.metrics import accuracy_score, f1_score,\\\n",
        " matthews_corrcoef, cohen_kappa_score, balanced_accuracy_score\n",
        "from sklearn.model_selection import train_test_split\n",
        "from sklearn.metrics import confusion_matrix\n",
        "\n",
        "# For data analysis\n",
        "from matplotlib import pyplot as plt\n",
        "import numpy as np\n",
        "from matplotlib.colors import LinearSegmentedColormap\n",
        "from matplotlib import colors\n",
        "import pandas as pd\n",
        "import seaborn as sns\n",
        "\n",
        "\n",
        "# Others\n",
        "import os\n",
        "import time\n"
      ],
      "metadata": {
        "id": "iVkVipSYr-pO"
      },
      "execution_count": null,
      "outputs": []
    },
    {
      "cell_type": "markdown",
      "source": [
        "#Data"
      ],
      "metadata": {
        "id": "FPpRpiSfsAbn"
      }
    },
    {
      "cell_type": "code",
      "source": [
        "esri_landcover_path = '/content/drive/MyDrive/Kolkata_image_data/ESRI Land Cover Classified/45Q_20200101-20210101.tif'\n",
        "ls_8_2021_path = '/content/drive/MyDrive/Kolkata_image_data/2021-04-25/stacked_raster.tif'\n",
        "wetland_bigger = '/content/drive/MyDrive/Kolkata_image_data/geojson_files/wetland_bigger.geojson'"
      ],
      "metadata": {
        "id": "i2DKDf7YsBMT"
      },
      "execution_count": null,
      "outputs": []
    },
    {
      "cell_type": "markdown",
      "source": [
        "#Satellite Image Processing Functions"
      ],
      "metadata": {
        "id": "a6meCDtlsD97"
      }
    },
    {
      "cell_type": "code",
      "source": [
        "def clip_and_stack(image_paths, geojson, geom=None, clip_only=False):\n",
        "  \"\"\"\n",
        "  image: list of paths to the images\n",
        "  geojson: path to the geojson-like file which contains the geometry of the clip\n",
        "  geom: geometry object\n",
        "  clip_only: Don't Stack\n",
        "  returns stacked clipped raster\n",
        "  \"\"\"\n",
        "  if type(image_paths) != list:\n",
        "    image_paths = [image_paths]\n",
        "  \n",
        "  with rio.open(image_paths[0]) as f:\n",
        "    crs = f.meta['crs']\n",
        "\n",
        "  if type(geom) == type(None):\n",
        "    geom = gpd.read_file(geojson)\n",
        "    geom = geom.to_crs(crs)\n",
        "    geom = geom.geometry\n",
        "\n",
        "  clipped_path_list = es.crop_all(image_paths, '.', geom, overwrite=True)\n",
        "\n",
        "  if clip_only:\n",
        "    return clipped_path_list\n",
        "\n",
        "  stacked, meta = es.stack(clipped_path_list, nodata=-9999)\n",
        "\n",
        "  return stacked"
      ],
      "metadata": {
        "id": "lnqUFizrsGYF"
      },
      "execution_count": null,
      "outputs": []
    },
    {
      "cell_type": "code",
      "source": [
        "def resample(original, ht=0, wd=0, method=Resampling.bilinear, from_file=None):\n",
        "  if from_file:\n",
        "    with rio.open(from_file) as f:\n",
        "      wd = f.meta['width']\n",
        "      ht = f.meta['height']\n",
        "\n",
        "  with rio.open(original) as dataset:\n",
        "    # resample data to target shape\n",
        "    resampled_data = dataset.read(\n",
        "        out_shape=(\n",
        "            dataset.count,\n",
        "            int(ht),\n",
        "            int(wd)\n",
        "        ),\n",
        "        resampling=method\n",
        "    )\n",
        "\n",
        "    # scale image transform\n",
        "    transform = dataset.transform * dataset.transform.scale(\n",
        "        (dataset.width / resampled_data.shape[-1]),\n",
        "        (dataset.height / resampled_data.shape[-2])\n",
        "    )\n",
        "    return resampled_data, transform"
      ],
      "metadata": {
        "id": "43HDNlWTsImf"
      },
      "execution_count": null,
      "outputs": []
    },
    {
      "cell_type": "code",
      "source": [
        "def get_arr_from_file(path):\n",
        "  with rio.open(path) as f:\n",
        "    return f.read()"
      ],
      "metadata": {
        "id": "A00Domo3sJa8"
      },
      "execution_count": null,
      "outputs": []
    },
    {
      "cell_type": "code",
      "source": [
        "def trim_edges(arr, n):\n",
        "  return arr[:, n:-n, n:-n]"
      ],
      "metadata": {
        "id": "w0rRC74GsLD0"
      },
      "execution_count": null,
      "outputs": []
    },
    {
      "cell_type": "code",
      "source": [
        "# Appends pairwise normalized difference values to a raster array. input shape must be (pixel_num, band_num)\n",
        "def add_nd(np_arr):\n",
        "  arr64 = np_arr.astype('float64')\n",
        "  n = len(np_arr[0])\n",
        "  for b1 in range(n):\n",
        "    for b2 in range(b1+1, n):\n",
        "      nd = es.normalized_diff(arr64[:,b1], arr64[:,b2])\n",
        "      arr64 = np.concatenate((arr64, nd.reshape(nd.shape[0], 1)), axis = 1)\n",
        "  arr64 = np.nan_to_num(arr64)\n",
        "  return arr64"
      ],
      "metadata": {
        "id": "0emaIORJsMt7"
      },
      "execution_count": null,
      "outputs": []
    },
    {
      "cell_type": "code",
      "source": [
        "cmap = colors.ListedColormap(['#ffffff', '#429AE1', '#397E48', '#88AF52', '#7987C6', '#E49634', '#DFC25A', '#C4281B', '#A59B8F', '#F3F6FB', '#ffffff'])\n",
        "boundaries = [-0.5, 0.5, 1.5, 2.5, 3.5, 4.5, 5.5, 6.5, 7.5, 8.5, 9.5, 10.5]\n",
        "norm = colors.BoundaryNorm(boundaries, cmap.N, clip=True)"
      ],
      "metadata": {
        "id": "zQDZNdxisO5w"
      },
      "execution_count": null,
      "outputs": []
    },
    {
      "cell_type": "markdown",
      "source": [
        "#Workspace"
      ],
      "metadata": {
        "id": "77FyD1IWsRYF"
      }
    },
    {
      "cell_type": "code",
      "source": [
        "class Workspace:\n",
        "  # \n",
        "  def __init__(self, X_path, y_path, clip_area=None, resample_needed=False, trim_needed=False, delete_bands=False):\n",
        "    self.X_path = X_path\n",
        "    self.y_path = y_path\n",
        "    if clip_area:\n",
        "      self.X_path = clip_and_stack([self.X_path], geojson=clip_area, clip_only=True)[0]\n",
        "      self.y_path = clip_and_stack([self.y_path], geojson=clip_area, clip_only=True)[0]\n",
        "    \n",
        "    self.X = get_arr_from_file(self.X_path)\n",
        "    if delete_bands:\n",
        "      self.X = np.delete(self.X, delete_bands, 0)\n",
        "    # This resamples y according to X\n",
        "    if resample_needed:\n",
        "      self.y, tr = resample(self.y_path, method=Resampling.mode, from_file=self.X_path)\n",
        "    else:\n",
        "      self.y = get_arr_from_file(self.y_path)\n",
        "\n",
        "    if trim_needed:\n",
        "      self.X = trim_edges(self.X, trim_needed)\n",
        "      self.y = trim_edges(self.y, trim_needed)\n",
        "\n",
        "    assert(self.X.shape[-1] == self.y.shape[-1] and self.X.shape[-2] == self.y.shape[-2])\n",
        "\n",
        "    self.original_shape = self.X.shape\n",
        "\n",
        "  # Flatten, categorize and augment with nd bands\n",
        "  def process(self, flatten=True, ohe=True, add_nd_needed=True):\n",
        "    if flatten:\n",
        "      self.X = np.transpose(self.X.reshape(self.X.shape[0], self.X.shape[-1]*self.X.shape[-2]))\n",
        "    \n",
        "    if ohe:\n",
        "      self.y = pd.get_dummies(self.y.flatten())\n",
        "      self.categories = self.y.columns\n",
        "\n",
        "    if add_nd_needed:\n",
        "      self.X = add_nd(self.X)\n",
        "\n",
        "  def split_datasets(self, test_size=0.3):\n",
        "    self.X_train, self.X_test, self.y_train, self.y_test = train_test_split(self.X, self.y,\n",
        "                                                  test_size=test_size, random_state=42)\n",
        "    return self.X_train, self.X_test, self.y_train, self.y_test\n",
        "\n",
        "  def get_fitted_model(self, n_estimators=100, max_leaf_nodes=None, criterion='gini',\n",
        "                       random_state=22, process=True, split=True):\n",
        "    self.model = RandomForestClassifier(n_estimators=n_estimators, max_leaf_nodes=max_leaf_nodes,\n",
        "                                        criterion=criterion, random_state=random_state)\n",
        "    if process:\n",
        "      self.process()\n",
        "    if split:\n",
        "      self.split_datasets()\n",
        "    self.model.fit(self.X_train, self.y_train)\n",
        "    return self.model\n",
        "\n",
        "  def get_score(self, method=accuracy_score, fit=False):\n",
        "    if fit:\n",
        "      self.get_fitted_model()\n",
        "    preds = self.model.predict(self.X_test)\n",
        "    return accuracy_score(self.y_test, preds)\n",
        "\n",
        "  # X_test is either a stacked flattened array of shape \n",
        "  # (num_pixel, num_band_with_nd) or a stacked raster array of shape\n",
        "  # (num_band_original, height, width)\n",
        "\n",
        "  def predict(self, X_test, processing_needed=False):\n",
        "    if processing_needed:\n",
        "      sh = X_test.shape\n",
        "      X_test = np.transpose(X_test.reshape(X_test.shape[0], X_test.shape[-1]*X_test.shape[-2]))\n",
        "      X_test = add_nd(X_test)\n",
        "      \n",
        "\n",
        "    preds = self.model.predict(X_test)\n",
        "    preds = pd.DataFrame(preds, columns=self.categories).idxmax(axis=1).to_numpy()\n",
        "\n",
        "    if processing_needed:\n",
        "      preds = preds.reshape(sh[1], sh[2])\n",
        "    \n",
        "    return preds\n",
        "      \n"
      ],
      "metadata": {
        "id": "aku7FkP5sSQk"
      },
      "execution_count": null,
      "outputs": []
    },
    {
      "cell_type": "code",
      "source": [
        "ws = Workspace('stack.tif', esri_landcover_path, clip_area=wetland_bigger, resample_needed=True, trim_needed=5)"
      ],
      "metadata": {
        "id": "LipMiwk4wLoe"
      },
      "execution_count": null,
      "outputs": []
    },
    {
      "cell_type": "code",
      "source": [
        "ws.process(add_nd_needed=True)\n",
        "start = time.time()\n",
        "mm = ws.get_fitted_model(n_estimators=50, max_leaf_nodes=500, process=False)\n",
        "# # mm = ws.get_fitted_model(n_estimators=10, process=False, split=False)\n",
        "print(time.time() - start)\n",
        "ws.get_score(fit=False, method=balanced_accuracy_score)"
      ],
      "metadata": {
        "id": "CcZPQBjiwNoO"
      },
      "execution_count": null,
      "outputs": []
    },
    {
      "cell_type": "code",
      "source": [
        "full_prediction = ws.predict(ws.X)\n",
        "# full_prediction = np.argmax(full_prediction, axis=1).reshape(357, 421)\n",
        "full_prediction = full_prediction.reshape(357, 421)"
      ],
      "metadata": {
        "id": "olISJ3UCwWOL"
      },
      "execution_count": null,
      "outputs": []
    },
    {
      "cell_type": "code",
      "source": [
        "ep.plot_bands(full_prediction, cmap=cmap, norm=norm)"
      ],
      "metadata": {
        "id": "_HUvE5PgwYB8"
      },
      "execution_count": null,
      "outputs": []
    },
    {
      "cell_type": "markdown",
      "source": [
        "# Satellite Image segmentation with skimage"
      ],
      "metadata": {
        "id": "yRYa-pKCwd15"
      }
    },
    {
      "cell_type": "code",
      "source": [
        "from skimage import exposure\n",
        "from skimage.segmentation import quickshift, slic, felzenszwalb\n",
        "import PIL"
      ],
      "metadata": {
        "id": "T6hkdCLbwg8x"
      },
      "execution_count": null,
      "outputs": []
    },
    {
      "cell_type": "code",
      "source": [
        "clipped_cover = clip_and_stack(esri_landcover_path, geojson=wetland_bigger, clip_only=True)[0]\n",
        "clipped_ls8 = clip_and_stack('stack.tif', geojson=wetland_bigger, clip_only=True)[0]\n",
        "clipped_cover_arr = get_arr_from_file(clipped_cover)\n",
        "clipped_ls8_arr = get_arr_from_file(clipped_ls8)"
      ],
      "metadata": {
        "id": "eWYF3FvqwlHG"
      },
      "execution_count": null,
      "outputs": []
    },
    {
      "cell_type": "code",
      "source": [
        "# show(clipped_ls8_arr, cmap=cmap, norm=norm)\n",
        "plt.figure(figsize=(8,8))\n",
        "show(clipped_cover_arr, cmap=cmap, norm=norm)"
      ],
      "metadata": {
        "id": "UB0cpW1pwmMY"
      },
      "execution_count": null,
      "outputs": []
    },
    {
      "cell_type": "code",
      "source": [
        "cover_norm = exposure.rescale_intensity(np.dstack(clipped_ls8_arr))\n",
        "# cover_norm_segments = slic(cover_norm, n_segments=5000, compactness=0.1)\n",
        "cover_norm_segments = quickshift(cover_norm, max_dist=3, convert2lab=False)\n",
        "# cover_norm_segments = felzenszwalb(cover_norm)\n",
        "plt.figure(figsize=(8,8))\n",
        "print(len(np.unique(cover_norm_segments)))\n",
        "plt.imshow(cover_norm_segments, cmap='flag')"
      ],
      "metadata": {
        "id": "OR7COT8bwnrD"
      },
      "execution_count": null,
      "outputs": []
    }
  ]
}